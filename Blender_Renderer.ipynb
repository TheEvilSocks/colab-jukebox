{
  "nbformat": 4,
  "nbformat_minor": 0,
  "metadata": {
    "colab": {
      "name": "BlenderRender.ipynb",
      "private_outputs": true,
      "provenance": [],
      "collapsed_sections": [],
      "authorship_tag": "ABX9TyMlgTQ0yPIMSHEx43QWSCY2",
      "include_colab_link": true
    },
    "kernelspec": {
      "name": "python3",
      "display_name": "Python 3"
    },
    "accelerator": "GPU"
  },
  "cells": [
    {
      "cell_type": "markdown",
      "metadata": {
        "id": "view-in-github",
        "colab_type": "text"
      },
      "source": [
        "<a href=\"https://colab.research.google.com/github/TheEvilSocks/google-colab-books/blob/master/Blender_Renderer.ipynb\" target=\"_parent\"><img src=\"https://colab.research.google.com/assets/colab-badge.svg\" alt=\"Open In Colab\"/></a>"
      ]
    },
    {
      "cell_type": "markdown",
      "metadata": {
        "id": "15zj6pNlrvdY"
      },
      "source": [
        "# Blender Renderer for Colab\r\n",
        "This script will render your .blend files with Google Colab.\r\n",
        "\r\n",
        "**! This script was created to render still images !**\r\n",
        "\r\n",
        "## Important\r\n",
        "\r\n",
        "*   Enable GPU rendering in your .blend file\r\n",
        "*   Make sure you have GPU enabled in this Colab Book.\r\n",
        "\r\n"
      ]
    },
    {
      "cell_type": "code",
      "metadata": {
        "id": "N4PCUA1zrm8x"
      },
      "source": [
        "!nvidia-smi -L"
      ],
      "execution_count": null,
      "outputs": []
    },
    {
      "cell_type": "markdown",
      "metadata": {
        "id": "AaqtrpjttTHD"
      },
      "source": [
        "# Setting up dependencies\r\n",
        "\r\n",
        "Choose which Blender version to install by editing the variable below."
      ]
    },
    {
      "cell_type": "code",
      "metadata": {
        "id": "HuQ5kyUetXhK"
      },
      "source": [
        "!add-apt-repository ppa:thomas-schiex/blender -y\r\n",
        "!apt update\r\n",
        "!apt install blender\r\n",
        "!apt install libboost-all-dev\r\n",
        "!apt install libgl1-mesa-dev\r\n",
        "from IPython.display import Image\r\n",
        "from google.colab import drive"
      ],
      "execution_count": null,
      "outputs": []
    },
    {
      "cell_type": "markdown",
      "metadata": {
        "id": "FhXS1R7ssS-b"
      },
      "source": [
        "## Mounting Google Drive"
      ]
    },
    {
      "cell_type": "code",
      "metadata": {
        "id": "vfmlHJ1ksSpt"
      },
      "source": [
        "drive.mount('/content/gdrive')"
      ],
      "execution_count": null,
      "outputs": []
    },
    {
      "cell_type": "markdown",
      "metadata": {
        "id": "zReetwqasmO9"
      },
      "source": [
        "Edit the configuration below to get the correct blend file from your Google Drive."
      ]
    },
    {
      "cell_type": "code",
      "metadata": {
        "id": "2816OAzYst0A"
      },
      "source": [
        "blendFile = '/content/gdrive/My Drive/Blender/render_this.blend'\r\n",
        "frame = 1\r\n",
        "renderer= \"CYCLES\" # \"CYCLES\" or \"BLENDER_RENDER\"\r\n"
      ],
      "execution_count": null,
      "outputs": []
    },
    {
      "cell_type": "markdown",
      "metadata": {
        "id": "Bswceb7itbyy"
      },
      "source": [
        "# Rendering\r\n",
        "The most important step: the actual rendering itself!  \r\n",
        "Choose between rendering a single frame or an entire animation.\r\n",
        "\r\n",
        "**! Execute only one of these rendering lines !**  "
      ]
    },
    {
      "cell_type": "markdown",
      "metadata": {
        "id": "1oiGHIcKt_xZ"
      },
      "source": [
        "## Render still image"
      ]
    },
    {
      "cell_type": "code",
      "metadata": {
        "id": "s0kv6ZyktdJi"
      },
      "source": [
        "!blender -b \"$blendFile\" -o \"//Output/frame_####\" -noaudio -E $renderer -x 1 -f $frame --cycles-device CUDA+CPU"
      ],
      "execution_count": null,
      "outputs": []
    },
    {
      "cell_type": "markdown",
      "metadata": {
        "id": "yEJ4dGg_uCYp"
      },
      "source": [
        "## Render animation\r\n",
        "Execute the line below if you want to render an animation."
      ]
    },
    {
      "cell_type": "code",
      "metadata": {
        "id": "46xshcEFuB-_"
      },
      "source": [
        "!blender -b \"$blendFile\" -o \"//Output/Moon/frame_####\" -noaudio -E $renderer -x 1 -a --cycles-device CUDA+CPU"
      ],
      "execution_count": null,
      "outputs": []
    },
    {
      "cell_type": "markdown",
      "metadata": {
        "id": "DhluDORJvtXS"
      },
      "source": [
        "# Display render"
      ]
    },
    {
      "cell_type": "code",
      "metadata": {
        "id": "TMHftgIRvv41"
      },
      "source": [
        "Image(filename='/content/gdrive/My Drive/Blender/Output/frame_0001.png')"
      ],
      "execution_count": null,
      "outputs": []
    }
  ]
}